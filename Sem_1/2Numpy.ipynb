{
 "cells": [
  {
   "cell_type": "code",
   "execution_count": 1,
   "id": "2bde3c40-e4da-4dec-833c-cf38bf7e6b4e",
   "metadata": {},
   "outputs": [
    {
     "name": "stdout",
     "output_type": "stream",
     "text": [
      "[10 20 30 40 50]\n",
      "<class 'numpy.ndarray'>\n"
     ]
    }
   ],
   "source": [
    "import numpy as np\n",
    "arr = np.array([10,20,30,40,50])\n",
    "print(arr)\n",
    "print(type(arr))"
   ]
  },
  {
   "cell_type": "code",
   "execution_count": null,
   "id": "a601d5ba-3b50-4f38-9371-962feed526ee",
   "metadata": {},
   "outputs": [
    {
     "name": "stdout",
     "output_type": "stream",
     "text": [
      "No. of dimensions:  2\n",
      "Shape of array:  (2, 3)\n",
      "Size of array:  6\n",
      "Array stored element of types:  int32\n",
      "Length of one array element in bytes:  4\n",
      "Array's data:  <memory at 0x000001499B5F2740>\n"
     ]
    }
   ],
   "source": [
    "import numpy as np\n",
    "\n",
    "\n",
    "arr = np.array([[1, 2, 3], [4, 5, 6]])\n",
    "print(\"No. of dimensions: \", arr.ndim)\n",
    "print(\"Shape of array: \", arr.shape)\n",
    "print(\"Size of array: \", arr.size)\n",
    "print(\"Array stored element of types: \", arr.dtype)\n",
    "print(\"Length of one array element in bytes: \", arr.itemsize)\n",
    "print(\"Array's data: \", arr.data)\n"
   ]
  },
  {
   "cell_type": "code",
   "execution_count": 7,
   "id": "bf5776e6-e868-49bc-85f5-6bfac20a8867",
   "metadata": {},
   "outputs": [
    {
     "name": "stdout",
     "output_type": "stream",
     "text": [
      "[[ 1  2  3  4]\n",
      " [ 5  6  7  8]\n",
      " [ 9 10 11 12]]\n"
     ]
    }
   ],
   "source": [
    "# Converting 1D to 4D using reshape()\n",
    "import numpy as np\n",
    "arr = np.array([1,2,3,4,5,6,7,8,9,10,11,12])\n",
    "newarr = arr.reshape(3,4)\n",
    "print(newarr)"
   ]
  },
  {
   "cell_type": "code",
   "execution_count": 1,
   "id": "b6d3da83-5745-49a3-a385-be7481183607",
   "metadata": {},
   "outputs": [
    {
     "data": {
      "text/plain": [
       "array([ 1,  2,  3,  4,  5,  6,  7,  8,  9, 10, 11, 12])"
      ]
     },
     "execution_count": 1,
     "metadata": {},
     "output_type": "execute_result"
    }
   ],
   "source": [
    "# flatten in Python\n",
    "import numpy as np\n",
    "arr3D = np.array([[[1, 2, 3], [4, 5, 6]],[[7,8,9],[10,11,12]]])\n",
    "flattened_array = arr3D.flatten() #4D to 1D conversion\n",
    "flattened_array"
   ]
  },
  {
   "cell_type": "code",
   "execution_count": 17,
   "id": "225c4e23-a2dc-40e3-b020-5c3dc052ef13",
   "metadata": {},
   "outputs": [
    {
     "data": {
      "text/plain": [
       "array([[1, 4],\n",
       "       [2, 5],\n",
       "       [3, 6]])"
      ]
     },
     "execution_count": 17,
     "metadata": {},
     "output_type": "execute_result"
    }
   ],
   "source": [
    "# nd.transpose function (columns to rows and vice versa)\n",
    "import numpy as np\n",
    "arr2d = np.array([[1,2,3],[4,5,6]])\n",
    "transposed_array = arr2d.transpose()\n",
    "transposed_array"
   ]
  },
  {
   "cell_type": "markdown",
   "id": "6d4eaae4-3526-4513-a45a-54f9d25ff72e",
   "metadata": {},
   "source": [
    "# Numpy Arithmetic statistical function"
   ]
  },
  {
   "cell_type": "markdown",
   "id": "896abc05-05dd-4d54-8857-d59ed130fc91",
   "metadata": {},
   "source": [
    "## Aritmetical and statistical operations (Addition, subtraction, multiply, divide, power of() )"
   ]
  },
  {
   "cell_type": "code",
   "execution_count": 18,
   "id": "2ce6c912-6138-40db-831d-db91cbbae6ed",
   "metadata": {},
   "outputs": [
    {
     "name": "stdout",
     "output_type": "stream",
     "text": [
      "[40 40 40]\n"
     ]
    }
   ],
   "source": [
    "#Addition in array \n",
    "a = np.array([10,20,30])\n",
    "b = np.array([30,20,10])\n",
    "c = np.add(a,b)\n",
    "print(c)"
   ]
  },
  {
   "cell_type": "code",
   "execution_count": 20,
   "id": "6f454698-cd09-467e-b06c-724f1b57b040",
   "metadata": {},
   "outputs": [
    {
     "name": "stdout",
     "output_type": "stream",
     "text": [
      "[-20   0  20]\n"
     ]
    }
   ],
   "source": [
    "#Subtraction in array \n",
    "a = np.array([10,20,30])\n",
    "b = np.array([30,20,10])\n",
    "c = np.subtract(a,b)\n",
    "print(c)"
   ]
  },
  {
   "cell_type": "code",
   "execution_count": 21,
   "id": "d5fdbec7-f903-430a-a83d-03720c2a9098",
   "metadata": {},
   "outputs": [
    {
     "name": "stdout",
     "output_type": "stream",
     "text": [
      "[300 400 300]\n"
     ]
    }
   ],
   "source": [
    "#multiplication in array \n",
    "a = np.array([10,20,30])\n",
    "b = np.array([30,20,10])\n",
    "c = np.multiply(a,b)\n",
    "print(c)"
   ]
  },
  {
   "cell_type": "code",
   "execution_count": 22,
   "id": "b1d07d63-1a85-4991-b0a0-326a167fa8d1",
   "metadata": {},
   "outputs": [
    {
     "name": "stdout",
     "output_type": "stream",
     "text": [
      "[0.33333333 1.         3.        ]\n"
     ]
    }
   ],
   "source": [
    "#Division in array \n",
    "a = np.array([10,20,30])\n",
    "b = np.array([30,20,10])\n",
    "c = np.divide(a,b)\n",
    "print(c)"
   ]
  },
  {
   "cell_type": "markdown",
   "id": "fdc352b9-43d6-46b4-b3d4-d5459fa60619",
   "metadata": {},
   "source": [
    "## Calculating Mean ,Median Std Deviation and variance"
   ]
  },
  {
   "cell_type": "code",
   "execution_count": 28,
   "id": "9d61d687-4d7b-46da-9d74-ce1042a32477",
   "metadata": {},
   "outputs": [
    {
     "name": "stdout",
     "output_type": "stream",
     "text": [
      "20.0\n"
     ]
    }
   ],
   "source": [
    "#Median in array \n",
    "a = np.array([[10,20,30],[30,20,10]])\n",
    "np.median(a)\n",
    "print(np.median(a))"
   ]
  },
  {
   "cell_type": "code",
   "execution_count": 27,
   "id": "32b696e9-e623-410b-a2ab-64ed84d6303e",
   "metadata": {},
   "outputs": [
    {
     "name": "stdout",
     "output_type": "stream",
     "text": [
      "20.0\n"
     ]
    }
   ],
   "source": [
    "#Mean in array \n",
    "np.mean(a)\n",
    "print(np.mean(a))"
   ]
  },
  {
   "cell_type": "code",
   "execution_count": 25,
   "id": "f5121c87-e2f3-4dc8-9845-a30088ea6279",
   "metadata": {},
   "outputs": [
    {
     "name": "stdout",
     "output_type": "stream",
     "text": [
      "8.16496580927726\n"
     ]
    }
   ],
   "source": [
    "#Standard Deviation in array \n",
    "np.std(a)\n",
    "print(np.std(a))"
   ]
  },
  {
   "cell_type": "code",
   "execution_count": 26,
   "id": "bc9b6804-b255-41ec-ae97-13aba9cb7e59",
   "metadata": {},
   "outputs": [
    {
     "name": "stdout",
     "output_type": "stream",
     "text": [
      "66.66666666666667\n"
     ]
    }
   ],
   "source": [
    "#Variance in array \n",
    "np.var(a)\n",
    "print(np.var(a))"
   ]
  },
  {
   "cell_type": "code",
   "execution_count": null,
   "id": "72bd24a0-f7d0-4620-a3c9-c04517794733",
   "metadata": {},
   "outputs": [],
   "source": []
  }
 ],
 "metadata": {
  "kernelspec": {
   "display_name": ".venv",
   "language": "python",
   "name": "python3"
  },
  "language_info": {
   "codemirror_mode": {
    "name": "ipython",
    "version": 3
   },
   "file_extension": ".py",
   "mimetype": "text/x-python",
   "name": "python",
   "nbconvert_exporter": "python",
   "pygments_lexer": "ipython3",
   "version": "3.12.9"
  }
 },
 "nbformat": 4,
 "nbformat_minor": 5
}
