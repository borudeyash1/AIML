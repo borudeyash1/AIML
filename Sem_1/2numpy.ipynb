{
 "cells": [
  {
   "cell_type": "markdown",
   "metadata": {},
   "source": [
    "# Basics"
   ]
  },
  {
   "cell_type": "code",
   "execution_count": 3,
   "metadata": {},
   "outputs": [],
   "source": [
    "import numpy as np"
   ]
  },
  {
   "cell_type": "markdown",
   "metadata": {},
   "source": [
    "##### Data science: Data science is a multi-disciplinary field that uses scientific methods, \n",
    "# processes, algorithms and systems to extract knowledge and insights from structured and\n",
    "# unstructured data. Data science is related to data mining, machine learning and big data.\n",
    "# Data science is a field that combines statistics, computer science, and domain-specific knowledge to extract insights from data.\n",
    "# Data science is used in a wide range of applications, including business, healthcare, finance, and more.\n",
    "\n",
    "#-------------------------------------------------------------------------------------------------------\n",
    "# Data Science Process: The data science process is a series of steps that data scientists follow to extract\n",
    "# insights from data. The data science process typically involves the following steps:\n",
    "#2. Collect data: The next step is to collect the data that you will use to solve the problem.\n",
    "#1. Define the problem: The first step in the data science process is to define the problem that you want to solve.\n",
    "#3. Clean and preprocess the data: The third step is to clean and preprocess the data so that it is ready for analysis.\n",
    "#4. Analyze the data: The fourth step is to analyze the data to identify patterns and relationships.\n",
    "#5. Model the data: The fifth step is to model the data using statistical or machine learning\n",
    "#6. Evaluate the model: The sixth step is to evaluate the model to see how well it\n",
    "#7. Communicate the results: The final step is to communicate the results of the analysis to stakeholders.\n",
    "\n",
    "#-------------------------------------------------------------------------------------------------------\n",
    "# outliers- An outlier is a data point that differs significantly from other observations.\n",
    "## An outlier may be due to variability in the measurement or it may indicate experimental error;\n",
    "#-------------------------------------------------------------------------------------------------------\n",
    "## Data cleaning- Data cleaning is the process of identifying and correcting errors in a dataset.\n",
    "##Data cleaning is an important step in the data analysis process, as it ensures that the data is accurate and reliable.\n",
    "## Data cleaning may involve removing duplicates, correcting errors, and handling missing values.\n",
    "#-------------------------------------------------------------------------------------------------------\n",
    "# feature engineering- Feature engineering is the process of using domain knowledge to extract features from raw data.\n",
    "## These features can be used to improve the performance of machine learning algorithms.\n",
    "## Feature engineering is an important part of the machine learning pipeline, as it can have a significant impact on the performance of the model.\n",
    "\n",
    "#-------------------------------------------------------------------------------------------------------\n",
    "#Model Building- Model building is the process of creating a mathematical representation of a real-world process.\n",
    "#In data science, model building involves using machine learning algorithms to create a model that can make predictions based on data.\n",
    "#Model building is an important step in the data science process, as it allows us to make predictions and extract insights from data.\n",
    "\n",
    "#-------------------------------------------------------------------------------------------------------\n",
    "#Model Evaluation- Model evaluation is the process of assessing the performance of a machine learning model.\n",
    "#Model evaluation is an important step in the data science process, as it allows us to determine how\n",
    "#well the model is performing and identify areas for improvement.\n",
    "#Model evaluation may involve using metrics such as accuracy, precision, and recall to evaluate the performance of the model.\n",
    "\n",
    "#-------------------------------------------------------------------------------------------------------\n",
    "#Model Deployment- Model deployment is the process of putting a machine learning model into production.\n",
    "#Model deployment is an important step in the data science process, as it allows us to use the model to make predictions on new data.\n",
    "#Model deployment may involve deploying the model to a cloud platform, such as AWS or Google Cloud, or integrating the model into an existing application.\n",
    "#Model deployment is an important step in the data science process, as it allows us to use the model to make predictions on new data.\n",
    "\n",
    "#-------------------------------------------------------------------------------------------------------\n",
    "#Packages used in data science:\n",
    "#Pandas: Pandas is a library for data manipulation and analysis in Python.\n",
    "#NumPy: NumPy is a library for numerical computing in Python.\n",
    "#Matplotlib: Matplotlib is a library for creating static, animated, and interactive visualizations in Python.   \n",
    "#Scikit-learn: Scikit-learn is a library for machine learning in Python.\n",
    "#Seaborn: Seaborn is a library for creating informative and attractive statistical graphics in Python\n",
    "#TensorFlow: TensorFlow is a library for machine learning in Python.\n",
    "#Keras: Keras is a library for deep learning in Python.\n",
    "#PyTorch: PyTorch is a library for machine learning in Python.\n",
    "#SciPy: SciPy is a library for scientific computing in Python.\n",
    "#Statsmodels: Statsmodels is a library for estimating and interpreting statistical models in Python.\n",
    "#NLTK: NLTK is a library for natural language processing in Python.\n",
    "\n",
    "#Command to install packages all at once:\n",
    "#pip install pandas numpy matplotlib scikit-learn seaborn tensorflow keras pytorch scipy statsmodels nltk\n",
    "\n",
    "\n",
    "#TYPES OF PLOTS :\n",
    "#1. Line Plot: A line plot is a type of plot that displays data points connected by straight line segments.\n",
    "#Libraries used: Matplotlib, Seaborn\n",
    "#2. Bar Plot: A bar plot is a type of plot that displays data using rectangular bars.\n",
    "#Libraries used: Matplotlib, Seaborn\n",
    "#3. Scatter Plot: A scatter plot is a type of plot that displays data points as dots.\n",
    "#Libraries used: Matplotlib, Seaborn\n",
    "#4. Histogram: A histogram is a type of plot that displays the frequency distribution of a dataset.\n",
    "#Libraries used: Matplotlib, Seaborn\n",
    "#5. Box Plot: A box plot is a type of plot that displays the distribution of a dataset.\n",
    "#Libraries used: Matplotlib, Seaborn\n",
    "#6. Violin Plot: A violin plot is a type of plot that displays the distribution of a dataset.\n",
    "#Libraries used: Matplotlib, Seaborn\n",
    "#7. Heatmap: A heatmap is a type of plot that displays data as a matrix of colors.\n",
    "#Libraries used: Matplotlib, Seaborn\n",
    "#8. Pair Plot: A pair plot is a type of plot that displays pairwise relationships in a dataset.\n",
    "#Libraries used: Seaborn\n",
    "\n"
   ]
  },
  {
   "cell_type": "markdown",
   "metadata": {},
   "source": [
    "NumPy:Array Object:A Numpy array is a grid of values, all of the same type, and is indexed by a tuple of nonnegative integers.\n",
    "The number of dimensions is the rank of the array; the shape of an array is a tuple of integers giving the size of the array along each dimension.\n",
    "NumPy arrays are similar to lists, but are more efficient and flexible.\n",
    "It is created using the array() function from the NumPy library.\n",
    "Syntax: numpy.array(object, dtype=None, copy=True, order='K', subok=False, ndmin=0)"
   ]
  },
  {
   "cell_type": "code",
   "execution_count": 4,
   "metadata": {},
   "outputs": [
    {
     "name": "stdout",
     "output_type": "stream",
     "text": [
      "1-dimensional array:  [1 2 3]\n",
      "Type of arr1:  <class 'numpy.ndarray'>\n"
     ]
    }
   ],
   "source": [
    "#  1-dimensional numpy array\n",
    "arr1 = np.array([1, 2, 3])\n",
    "print(\"1-dimensional array: \", arr1)\n",
    "print(\"Type of arr1: \", type(arr1))"
   ]
  },
  {
   "cell_type": "code",
   "execution_count": 12,
   "metadata": {},
   "outputs": [
    {
     "name": "stdout",
     "output_type": "stream",
     "text": [
      "\n",
      "2-dimensional array: \n",
      " [[1 2 3]\n",
      " [4 5 6]]\n",
      "Type of arr2:  <class 'numpy.ndarray'>\n"
     ]
    }
   ],
   "source": [
    "#  2-dimensional numpy array\n",
    "arr2 = np.array([[1, 2, 3], [4, 5, 6]])\n",
    "print(\"\\n2-dimensional array: \\n\", arr2)\n",
    "print(\"Type of arr2: \", type(arr2))"
   ]
  },
  {
   "cell_type": "code",
   "execution_count": 7,
   "metadata": {},
   "outputs": [
    {
     "name": "stdout",
     "output_type": "stream",
     "text": [
      "\n",
      "3-dimensional array: \n",
      " [[[ 1  2  3]\n",
      "  [ 4  5  6]]\n",
      "\n",
      " [[ 7  8  9]\n",
      "  [10 11 12]]]\n",
      "Type of arr3:  <class 'numpy.ndarray'>\n"
     ]
    }
   ],
   "source": [
    "arr3 = np.array([[[1, 2, 3], [4, 5, 6]], [[7, 8, 9], [10, 11, 12]]])\n",
    "print(\"\\n3-dimensional array: \\n\", arr3)\n",
    "print(\"Type of arr3: \", type(arr3))"
   ]
  },
  {
   "cell_type": "code",
   "execution_count": 8,
   "metadata": {},
   "outputs": [
    {
     "name": "stdout",
     "output_type": "stream",
     "text": [
      "No of dimensions:  2\n",
      "Shape of array:  (2, 3)\n",
      "Size of array:  6\n",
      "Array stores the elements of type:  int64\n",
      "Item size of array/Length of array:  8\n",
      "Data of array:  <memory at 0x000001CAFA8E41E0>\n"
     ]
    }
   ],
   "source": [
    "#Example for each attribute is given below:\n",
    "import numpy as np\n",
    "arr = np.array([[1, 2, 3], [4, 2 ,5]])\n",
    "print(\"No of dimensions: \", arr.ndim)\n",
    "print(\"Shape of array: \", arr.shape)# returns the shape of the array\n",
    "print(\"Size of array: \", arr.size)# returns the total number of elements in the array\n",
    "print(\"Array stores the elements of type: \", arr.dtype)# returns the data type of the elements in the array\n",
    "print(\"Item size of array/Length of array: \", arr.itemsize)# returns the size in bytes of each element in the array\n",
    "print(\"Data of array: \", arr.data)# returns a buffer object pointing to the start of the array's data"
   ]
  },
  {
   "cell_type": "markdown",
   "metadata": {},
   "source": [
    "# Reshape operation/Function:\n",
    "### It reshapes the given array into number of rows and columns\n"
   ]
  },
  {
   "cell_type": "code",
   "execution_count": 9,
   "metadata": {},
   "outputs": [
    {
     "name": "stdout",
     "output_type": "stream",
     "text": [
      "Original array: \n",
      " [[1 2 3]\n",
      " [4 2 5]]\n",
      "Array after reshaping: \n",
      " [[1 2 3]\n",
      " [4 2 5]]\n"
     ]
    }
   ],
   "source": [
    "arr = np.array([[1, 2, 3], [4, 2 ,5]])\n",
    "print(\"Original array: \\n\", arr)\n",
    "print(\"Array after reshaping: \\n\", arr.reshape(2, 3))"
   ]
  },
  {
   "cell_type": "markdown",
   "metadata": {},
   "source": [
    "# Flatten Function"
   ]
  },
  {
   "cell_type": "code",
   "execution_count": 10,
   "metadata": {},
   "outputs": [
    {
     "name": "stdout",
     "output_type": "stream",
     "text": [
      "Original array: \n",
      " [[1 2 3]\n",
      " [4 2 5]]\n",
      "Array after flattening:  [1 2 3 4 2 5]\n"
     ]
    }
   ],
   "source": [
    "arr = np.array([[1, 2, 3], [4, 2 ,5]])\n",
    "print(\"Original array: \\n\", arr)\n",
    "print(\"Array after flattening: \", arr.flatten())\n"
   ]
  },
  {
   "cell_type": "markdown",
   "metadata": {},
   "source": [
    "# Transpose of an array"
   ]
  },
  {
   "cell_type": "code",
   "execution_count": 11,
   "metadata": {},
   "outputs": [
    {
     "name": "stdout",
     "output_type": "stream",
     "text": [
      "Original array: \n",
      " [[1, 2, 3], [4, 5, 6], [7, 8, 9]]\n",
      "Transpose of array: \n",
      " [[1 4 7]\n",
      " [2 5 8]\n",
      " [3 6 9]]\n"
     ]
    }
   ],
   "source": [
    "#Transpose of an array\n",
    "arr = [[1, 2, 3], [4, 5, 6], [7, 8, 9]]\n",
    "print(\"Original array: \\n\", arr)\n",
    "print(\"Transpose of array: \\n\", np.transpose(arr))"
   ]
  },
  {
   "cell_type": "markdown",
   "metadata": {},
   "source": [
    "# Arithmetic, Statistical and String operations"
   ]
  },
  {
   "cell_type": "markdown",
   "metadata": {},
   "source": [
    "## 1.Arithmetic Operations : Addition,Sutractions,Multiplication,Division"
   ]
  },
  {
   "cell_type": "code",
   "execution_count": 13,
   "metadata": {},
   "outputs": [
    {
     "name": "stdout",
     "output_type": "stream",
     "text": [
      "Array1: \n",
      " [[1 2 3]\n",
      " [4 5 6]]\n",
      "Array2: \n",
      " [[ 7  8  9]\n",
      " [10 11 12]]\n",
      "Sum of two arrays: \n",
      " [[ 8 10 12]\n",
      " [14 16 18]]\n"
     ]
    }
   ],
   "source": [
    "#1.1 Addition of two arrays\n",
    "arr1 = np.array([[1, 2, 3], [4, 5, 6]])\n",
    "arr2 = np.array([[7, 8, 9], [10, 11, 12]])\n",
    "print(\"Array1: \\n\", arr1)\n",
    "print(\"Array2: \\n\", arr2)\n",
    "print(\"Sum of two arrays: \\n\", np.add(arr1, arr2))\n"
   ]
  },
  {
   "cell_type": "code",
   "execution_count": null,
   "metadata": {},
   "outputs": [],
   "source": [
    "#1.2 Subtraction of two arrays\n",
    "arr1 = np.array([[1, 2, 3], [4, 5, 6]])\n",
    "arr2 = np.array([[7, 8, 9], [10, 11, 12]])\n",
    "print(\"Array1: \\n\", arr1)\n",
    "print(\"Array2: \\n\", arr2)\n",
    "print(\"Subtraction of two arrays: \\n\", np.subtract(arr1, arr2))"
   ]
  },
  {
   "cell_type": "markdown",
   "metadata": {},
   "source": [
    "## Multiplication of Two Arrays"
   ]
  },
  {
   "cell_type": "code",
   "execution_count": null,
   "metadata": {},
   "outputs": [],
   "source": [
    "#1.3 Multiplication of two arrays\n",
    "arr1 = np.array([[1, 2, 3], [4, 5, 6]]) # Define the first array\n",
    "arr2 = np.array([[7, 8, 9], [10, 11, 12]]) # Define the second array\n",
    "print(\"Array1: \\n\", arr1)\n",
    "print(\"Array2: \\n\", arr2)\n",
    "print(\"Multiplication of two arrays: \\n\", np.multiply(arr1, arr2))"
   ]
  },
  {
   "cell_type": "markdown",
   "metadata": {},
   "source": [
    "## Division of Two Arrays"
   ]
  },
  {
   "cell_type": "code",
   "execution_count": null,
   "metadata": {},
   "outputs": [],
   "source": [
    "#1.4 Division of two arrays\n",
    "arr1 = np.array([[1, 2, 3], [4, 5, 6]]) # Define the first array\n",
    "arr2 = np.array([[7, 8, 9], [10, 11, 12]]) # Define the second array\n",
    "print(\"Array1: \\n\", arr1)\n",
    "print(\"Array2: \\n\", arr2)\n",
    "print(\"Division of two arrays: \\n\", np.divide(arr1, arr2))"
   ]
  },
  {
   "cell_type": "markdown",
   "metadata": {},
   "source": [
    "## Power of Two Arrays"
   ]
  },
  {
   "cell_type": "code",
   "execution_count": null,
   "metadata": {},
   "outputs": [
    {
     "name": "stdout",
     "output_type": "stream",
     "text": [
      "Array1: \n",
      " [[1 2 3]\n",
      " [4 5 6]]\n",
      "Array2: \n",
      " [[2 3 4]\n",
      " [3 1 3]]\n",
      "Power of two arrays: \n",
      " [[  1   8  81]\n",
      " [ 64   5 216]]\n"
     ]
    }
   ],
   "source": [
    "#1.5 Power of two arrays\n",
    "arr1 = np.array([[1, 2, 3], [4, 5, 6]]) # Define the first array\n",
    "arr2 = np.array([[2, 3, 4], [3, 1, 3]]) # Define the second array\n",
    "print(\"Array1: \\n\", arr1)\n",
    "print(\"Array2: \\n\", arr2)\n",
    "print(\"Power of  array: \\n\", np.power(arr1, arr2))\n",
    "#Here, the power of the first array is calculated with the elements of the second array.\n",
    "# The result is a new array where each element is the power of the corresponding element in the first\n",
    "# array to the element in the second array.\n",
    "#Output:\n",
    "#Array1:\n",
    "#[[ 1  2  3]\n",
    "# [ 4  5  6]]\n",
    "#Array2:\n",
    "#[[ 2  3  4]\n",
    "# [ 3  1  3]]\n",
    "#Power of two arrays:\n",
    "#[[  1   8  81]\n",
    "# [ 64  25 216]]"
   ]
  },
  {
   "cell_type": "markdown",
   "metadata": {},
   "source": [
    "## Calculating Mean,Mode ,Median,Standard deviation and Variance of the elemeents in an array"
   ]
  },
  {
   "cell_type": "code",
   "execution_count": null,
   "metadata": {},
   "outputs": [],
   "source": [
    "#Mean of an array\n",
    "array = np.array([[1, 2, 3], [4, 5, 6]])\n",
    "print(\"Original array: \\n\", array)\n",
    "print(\"Mean of array: \", np.mean(array))"
   ]
  },
  {
   "cell_type": "code",
   "execution_count": null,
   "metadata": {},
   "outputs": [],
   "source": [
    "#Mode of an array\n",
    "array = np.array([[1, 2, 3], [4, 5, 6], [1, 2, 2]])\n",
    "print(\"Original array: \\n\", array)\n",
    "print(\"Mode of array: \", np.mean(array))"
   ]
  },
  {
   "cell_type": "code",
   "execution_count": null,
   "metadata": {},
   "outputs": [],
   "source": [
    "#Median of an array\n",
    "array = np.array([[1, 2, 3], [4, 5, 6]])\n",
    "print(\"Original array: \\n\", array)\n",
    "print(\"Median of array: \", np.median(array))"
   ]
  },
  {
   "cell_type": "code",
   "execution_count": null,
   "metadata": {},
   "outputs": [],
   "source": [
    "#Standard deviation of an array\n",
    "array = np.array([[1, 2, 3], [4, 5, 6]])\n",
    "print(\"Original array: \\n\", array)\n",
    "print(\"Standard deviation of array: \", np.std(array))"
   ]
  },
  {
   "cell_type": "code",
   "execution_count": null,
   "metadata": {},
   "outputs": [],
   "source": [
    "#Variance of an array\n",
    "arr = np.array([[1, 2, 3], [4, 5, 6]])\n",
    "print(\"Original array: \\n\", arr)\n",
    "print(\"Variance of array: \", np.var(arr))"
   ]
  },
  {
   "cell_type": "markdown",
   "metadata": {},
   "source": [
    "### Why do we calculate standard deviation and variance in Data Mining ?"
   ]
  },
  {
   "cell_type": "markdown",
   "metadata": {},
   "source": [
    "### Understanding data spread\n",
    "The spread of data is a measure of how much the data points are spread out from the mean.\n",
    "### Feature selection\n",
    "Feature selection is the process of selecting a subset of the most relevant features from the original set of features\n",
    "### Outlier Detection\n",
    "Outlier detection is the process of identifying data points that are significantly different from the rest of the data\n",
    "### Normalization and scaling\n",
    "Normalization and scaling are techniques used to transform the data into a common scale, making it easier to compar"
   ]
  }
 ],
 "metadata": {
  "kernelspec": {
   "display_name": ".venv",
   "language": "python",
   "name": "python3"
  },
  "language_info": {
   "codemirror_mode": {
    "name": "ipython",
    "version": 3
   },
   "file_extension": ".py",
   "mimetype": "text/x-python",
   "name": "python",
   "nbconvert_exporter": "python",
   "pygments_lexer": "ipython3",
   "version": "3.12.9"
  }
 },
 "nbformat": 4,
 "nbformat_minor": 2
}
