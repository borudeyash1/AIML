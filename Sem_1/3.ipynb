{
 "cells": [
  {
   "cell_type": "code",
   "execution_count": null,
   "metadata": {
    "vscode": {
     "languageId": "markdown"
    }
   },
   "outputs": [],
   "source": [
    "Covariance is a measure of the relationship between two random variables and the extent to which they change together.\n",
    " If the greater values of one variable mainly correspond with the greater values of the other variable,\n",
    " and the same holds for the lesser values, the covariance is positive. In the opposite case, when the greater \n",
    " values of one variable mainly correspond to the lesser values of the other, the covariance is negative. \n",
    " Covariance is calculated as the expected value of the product of the deviations of two random variables from their means.\n",
    " "
   ]
  },
  {
   "cell_type": "code",
   "execution_count": 5,
   "metadata": {},
   "outputs": [
    {
     "name": "stdout",
     "output_type": "stream",
     "text": [
      "Mean:  3.3333333333333335\n",
      "Median:  2.5\n",
      "Mode:  0\n"
     ]
    }
   ],
   "source": [
    "import numpy as np\n",
    "\n",
    "# Define the array\n",
    "array = np.array([[4,3,2], [10,1,0]])\n",
    "\n",
    "# Calculate the mean\n",
    "mean = np.mean(array)\n",
    "\n",
    "# Calculate the median\n",
    "median = np.median(array)\n",
    "\n",
    "# Calculate the mode\n",
    "mode = np.bincount(array.flatten()).argmax()\n",
    "\n",
    "print(\"Mean: \", mean)\n",
    "print(\"Median: \", median)\n",
    "print(\"Mode: \", mode)"
   ]
  },
  {
   "cell_type": "markdown",
   "metadata": {},
   "source": [
    "### standard deviation = √variance\n",
    "### standard error = standard deviation / √n\n",
    "### mean = (Σxi) / n\n",
    "### median = (n+1)/2 th value when xi is sorted\n",
    "### mode = most frequently occurring value in xi"
   ]
  },
  {
   "cell_type": "code",
   "execution_count": null,
   "metadata": {},
   "outputs": [],
   "source": []
  }
 ],
 "metadata": {
  "kernelspec": {
   "display_name": ".venv",
   "language": "python",
   "name": "python3"
  },
  "language_info": {
   "codemirror_mode": {
    "name": "ipython",
    "version": 3
   },
   "file_extension": ".py",
   "mimetype": "text/x-python",
   "name": "python",
   "nbconvert_exporter": "python",
   "pygments_lexer": "ipython3",
   "version": "3.12.9"
  }
 },
 "nbformat": 4,
 "nbformat_minor": 2
}
