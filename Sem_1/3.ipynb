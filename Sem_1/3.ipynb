{
 "cells": [
  {
   "cell_type": "code",
   "execution_count": null,
   "metadata": {
    "vscode": {
     "languageId": "markdown"
    }
   },
   "outputs": [],
   "source": [
    "Covariance is a measure of the relationship between two random variables and the extent to which they change together.\n",
    " If the greater values of one variable mainly correspond with the greater values of the other variable,\n",
    " and the same holds for the lesser values, the covariance is positive. In the opposite case, when the greater \n",
    " values of one variable mainly correspond to the lesser values of the other, the covariance is negative. \n",
    " Covariance is calculated as the expected value of the product of the deviations of two random variables from their means.\n",
    " "
   ]
  },
  {
   "cell_type": "code",
   "execution_count": 5,
   "metadata": {},
   "outputs": [
    {
     "name": "stdout",
     "output_type": "stream",
     "text": [
      "Mean:  3.3333333333333335\n",
      "Median:  2.5\n",
      "Mode:  0\n"
     ]
    }
   ],
   "source": [
    "import numpy as np\n",
    "\n",
    "# Define the array\n",
    "array = np.array([[4,3,2], [10,1,0]])\n",
    "\n",
    "# Calculate the mean\n",
    "mean = np.mean(array)\n",
    "\n",
    "# Calculate the median\n",
    "median = np.median(array)\n",
    "\n",
    "# Calculate the mode\n",
    "mode = np.bincount(array.flatten()).argmax()\n",
    "\n",
    "\n",
    "\n",
    "print(\"Mean: \", mean)\n",
    "print(\"Median: \", median)\n",
    "print(\"Mode: \", mode)"
   ]
  },
  {
   "cell_type": "markdown",
   "metadata": {},
   "source": [
    "### standard deviation = √variance\n",
    "### standard error = standard deviation / √n\n",
    "### mean = (Σxi) / n\n",
    "### median = (n+1)/2 th value when xi is sorted\n",
    "### mode = most frequently occurring value in xi"
   ]
  },
  {
   "cell_type": "markdown",
   "metadata": {},
   "source": [
    "#### variance is related with one attribute but it deals with how a single attribute affects the overall outcome, whereas co-variance is connected to two attributes and it measures how the relationship between these two attributes impacts the result.\n",
    "\n",
    "### Co-variance Thoughts\n",
    "\n",
    "## Positive Co-variance\n",
    "When two attributes have a positive co-variance, it means that as one attribute increases, the other attribute also tends to increase. This relationship can be beneficial in certain situations, such as:\n",
    "\n",
    "* In finance, a positive co-variance between stock prices and economic growth can indicate a healthy economy.\n",
    "* In marketing, a positive co-variance between advertising spend and sales can indicate an effective marketing strategy.\n",
    "\n",
    "## Negative Co-variance\n",
    "When two attributes have a negative co-variance, it means that as one attribute increases, the other attribute tends to decrease. This relationship can be beneficial in certain situations, such as:\n",
    "\n",
    "* In finance, a negative co-variance between stock prices and interest rates can indicate a stable economy.\n",
    "* In healthcare, a negative co-variance between disease incidence and vaccination rates can indicate an effective public health strategy.\n",
    "\n",
    "## Zero Co-variance\n",
    "When two attributes have a zero co-variance, it means that there is no linear relationship between the two attributes. This can be beneficial in certain situations, such as:\n",
    "\n",
    "* In finance, a zero co-variance between stock prices and inflation rates can indicate a stable economy.\n",
    "* In engineering, a zero co-variance between system inputs and outputs can indicate a well-designed system.\n",
    "\n",
    "In conclusion, understanding co-variance is crucial in making informed decisions in various fields. By analyzing the relationship between attributes, we can identify patterns and trends that can help us make better predictions and decisions.\n",
    "\n",
    "#### ## Correlation and Coefficient\n",
    "\n",
    "Correlation is a statistical measure that calculates the strength and direction of the linear relationship between two continuous variables. The correlation coefficient is a numerical value that ranges from -1 to 1, where:\n",
    "\n",
    "* 1 indicates a perfect positive linear relationship\n",
    "* -1 indicates a perfect negative linear relationship\n",
    "* 0 indicates no linear relationship\n",
    "\n",
    "The correlation coefficient is often denoted by the Greek letter rho (ρ) and can be calculated using the following formula:\n",
    "\n",
    "ρ = cov(X, Y) / (σX * σY)\n",
    "\n",
    "where:\n",
    "\n",
    "* cov(X, Y) is the covariance between variables X and Y\n",
    "* σX and σY are the standard deviations of variables X and Y, respectively\n",
    "\n",
    "There are several types of correlation coefficients, including:\n",
    "\n",
    "* Pearson's correlation coefficient (r): measures the linear relationship between two continuous variables\n",
    "* Spearman's rank correlation coefficient (ρ): measures the monotonic relationship between two continuous variables\n",
    "* Kendall's tau correlation coefficient (τ): measures the concordance between two continuous variables\n",
    "\n",
    "In Python, you can calculate the correlation coefficient using the `numpy` library:\n",
    "```python\n",
    "import numpy as np\n",
    "\n",
    "# Define two arrays of data\n",
    "x = np.array([1, 2, 3, 4, 5])\n",
    "y = np.array([2, 3, 5, 7, 11])\n",
    "\n",
    "# Calculate the correlation coefficient\n",
    "corr_coef = np.corrcoef(x, y)[0, 1]\n",
    "\n",
    "print(\"Correlation coefficient:\", corr_coef)\n",
    "```\n",
    "This code calculates the Pearson's correlation coefficient between the two arrays `x` and `y`."
   ]
  },
  {
   "cell_type": "markdown",
   "metadata": {},
   "source": [
    "# _______________________________________________________________________________________________________________________"
   ]
  },
  {
   "cell_type": "markdown",
   "metadata": {},
   "source": [
    "## 3.String functions in Numpy \n",
    "### Theory\n",
    "NumPy provides several string functions to manipulate and operate on strings. These functions can be used to perform various operations such as concatenation, comparison, and searching.\n",
    "\n",
    "### Examples\n",
    "```python\n",
    "import numpy as np\n",
    "\n",
    "# 1. np.char.add()\n",
    "# This function is used to concatenate two strings.\n",
    "print(np.char.add(['Hello,'], [' how are you?']))\n",
    "\n",
    "# 2. np.char.multiply()\n",
    "# This function is used to repeat a string.\n",
    "print(np.char.multiply('Hello ', 3))\n",
    "\n",
    "# 3. np.char.center()\n",
    "# This function is used to center a string.\n",
    "print(np.char.center('Hello', 10, '*'))\n",
    "\n",
    "# 4. np.char.capitalize()\n",
    "# This function is used to capitalize the first letter of a string.\n",
    "print(np.char.capitalize('hello'))\n",
    "\n",
    "# 5. np.char.title()\n",
    "# This function is used to capitalize the first letter of each word in a string.\n",
    "print(np.char.title('hello world'))\n",
    "\n",
    "# 6. np.char.lower()\n",
    "# This function is used to convert a string to lowercase.\n",
    "print(np.char.lower('HELLO'))\n",
    "\n",
    "# 7. np.char.upper()\n",
    "# This function is used to convert a string to uppercase.\n",
    "print(np.char.upper('hello'))\n",
    "\n",
    "# 8. np.char.split()\n",
    "# This function is used to split a string into substrings.\n",
    "print(np.char.split('hello world', sep=' '))\n",
    "\n",
    "# 9. np.char.strip()\n",
    "# This function is used to remove leading and trailing characters from a string.\n",
    "print(np.char.strip('   hello   ', ' '))\n",
    "\n",
    "# 10. np.char.join()\n",
    "# This function is used to join two or more strings.\n",
    "print(np.char.join(['hello', 'world'], sep=' '))\n",
    "```"
   ]
  },
  {
   "cell_type": "markdown",
   "metadata": {},
   "source": []
  },
  {
   "cell_type": "markdown",
   "metadata": {},
   "source": [
    "### String Concatenation \n",
    "\n",
    "String concatenation is the process of combining two or more strings into a single string. This can be achieved using various methods, including the use of operators, functions, or formatting techniques.\n",
    "\n",
    "#### Using the `+` Operator\n",
    "\n",
    "The `+` operator is the most common method for concatenating strings in many programming languages.\n",
    "\n",
    "\n",
    "# Example 1: Concatenating two strings using the `+` operator\n",
    "str1 = \"Hello, \"\n",
    "str2 = \"world!\"\n",
    "result = str1 + str2\n",
    "print(result)  # Output: \"Hello, world!\"\n",
    "\n",
    "\n",
    "#### Using the `join()` Method\n",
    "\n",
    "The `join()` method is another way to concatenate strings. It takes an iterable of strings as an argument and returns a single string with the elements joined together.\n",
    "\n",
    "\n",
    "# Example 2: Concatenating multiple strings using the `join()` method\n",
    "strings = [\"Hello\", \", \", \"world\", \"!\"]\n",
    "result = \"\".join(strings)\n",
    "print(result)  # Output: \"Hello, world!\"\n",
    "```\n",
    "\n",
    "#### Using F-Strings (Formatted Strings)\n",
    "\n",
    "F-strings are a feature in Python that allows you to embed expressions inside string literals, using the `f` prefix.\n",
    "\n",
    "\n",
    "# Example 3: Concatenating strings using f-strings\n",
    "name = \"John\"\n",
    "age = 30\n",
    "result = f\"My name is {name} and I am {age} years old.\"\n",
    "print(result)  # Output: \"My name is John and I am 30 years old.\"\n",
    "```\n",
    "\n",
    "#### Using the `format()` Method\n",
    "\n",
    "The `format()` method is another way to concatenate strings by embedding expressions inside string literals.\n",
    "\n",
    "\n",
    "# Example 4: Concatenating strings using the `format()` method\n",
    "name = \"John\"\n",
    "age = 30\n",
    "result = \"My name is {} and I am {} years old.\".format(name, age)\n",
    "print(result)  # Output: \"My name is John and I am 30 years old.\"\n",
    "```"
   ]
  },
  {
   "cell_type": "markdown",
   "metadata": {},
   "source": [
    "#### Replacing old array element with the new array element"
   ]
  },
  {
   "cell_type": "code",
   "execution_count": 7,
   "metadata": {},
   "outputs": [
    {
     "name": "stdout",
     "output_type": "stream",
     "text": [
      "Hello How are You\n",
      "Hello How are You\n"
     ]
    }
   ],
   "source": [
    "str = \"Hello How are You\"\n",
    "print (str)\n",
    "z = np.char.replace(str, 'hello', 'hi')\n",
    "print(z)"
   ]
  },
  {
   "cell_type": "markdown",
   "metadata": {},
   "source": [
    "### Converting all lowerccase charcaters in a string to uppercase and vice versa"
   ]
  },
  {
   "cell_type": "code",
   "execution_count": 12,
   "metadata": {},
   "outputs": [
    {
     "name": "stdout",
     "output_type": "stream",
     "text": [
      "hELLO hOW ARE yOU\n",
      "pYTHON IS fun!\n"
     ]
    }
   ],
   "source": [
    "# Example 1: Using swapcase() method\n",
    "str1 = \"Hello How are You\"\n",
    "result1 = str1.swapcase()\n",
    "print(result1)  # Output: hELLO hOW ARE yOU\n",
    "\n",
    "# Example 2: Using swapcase() method with a different string\n",
    "str2 = \"Python is FUN!\"\n",
    "result2 = str2.swapcase()\n",
    "print(result2)  # Output: pYTHON IS fun!"
   ]
  },
  {
   "cell_type": "markdown",
   "metadata": {},
   "source": [
    "#### Indexing\n",
    "Indexing is a data structure technique that allows for efficient querying and retrieval of data. It involves creating a data structure that facilitates quick lookup, insertion, and deletion of data.\n",
    "\n",
    "There are several types of indexing, including:\n",
    "\n",
    "1. **Hash Indexing**: uses a hash function to map keys to specific locations in an array.\n",
    "2. **B-Tree Indexing**: uses a self-balancing search tree to keep data sorted and allow for efficient insertion and deletion.\n",
    "3. **Bitmap Indexing**: uses a bitmap to represent the presence or absence of a value in a column.\n",
    "4. **Full-Text Indexing**: used for full-text search, allowing for efficient querying of text data.\n",
    "5. **Clustered Indexing**: reorders the physical records of the table according to the index keys.\n",
    "6. **Non-Clustered Indexing**: creates a separate data structure that contains the index keys and pointers to the corresponding records.\n",
    "7. **Composite Indexing**: combines multiple columns into a single index.\n",
    "8. **Function-Based Indexing**: uses a function to compute the index value.\n",
    "9. **Partitioned Indexing**: divides the index into smaller partitions based on a specific criteria.\n",
    "\n"
   ]
  },
  {
   "cell_type": "markdown",
   "metadata": {},
   "source": [
    "#### Accesing elements in 1D,2D,3D arrays"
   ]
  },
  {
   "cell_type": "markdown",
   "metadata": {},
   "source": [
    "\n",
    "# 1D Array"
   ]
  },
  {
   "cell_type": "code",
   "execution_count": 22,
   "metadata": {},
   "outputs": [
    {
     "name": "stdout",
     "output_type": "stream",
     "text": [
      "1\n",
      "10\n",
      "[2, 3]\n",
      "[3, 4, 5, 10]\n"
     ]
    }
   ],
   "source": [
    "\n",
    "array_1d = [1, 2, 3, 4, 5,10]\n",
    "\n",
    "# Accessing elements in 1D array\n",
    "print(array_1d[0])  # Output: 1\n",
    "print(array_1d[-1])  # Output: 5\n",
    "\n",
    "\n"
   ]
  },
  {
   "cell_type": "markdown",
   "metadata": {},
   "source": [
    "# 2D Array\n"
   ]
  },
  {
   "cell_type": "code",
   "execution_count": 9,
   "metadata": {},
   "outputs": [
    {
     "name": "stdout",
     "output_type": "stream",
     "text": [
      "1\n",
      "5\n",
      "9\n",
      "[2, 3]\n",
      "[[4, 5, 6], [7, 8, 9]]\n"
     ]
    }
   ],
   "source": [
    "array_2d = [[1, 2, 3], [4, 5, 6], [7, 8, 9]]\n",
    "\n",
    "# Accessing elements in 2D array\n",
    "print(array_2d[0][0])  # Output: 1\n",
    "print(array_2d[1][1])  # Output: 5\n",
    "print(array_2d[2][2])  # Output: 9\n",
    "print(array_2d[0][1:3])  # Output: [2, 3]\n",
    "print(array_2d[1:])  # Output: [[4, 5, 6], [7, 8, 9]]\n",
    "\n"
   ]
  },
  {
   "cell_type": "markdown",
   "metadata": {},
   "source": [
    "# 3D Array\n"
   ]
  },
  {
   "cell_type": "code",
   "execution_count": 13,
   "metadata": {},
   "outputs": [
    {
     "name": "stdout",
     "output_type": "stream",
     "text": [
      "1\n",
      "11\n",
      "6\n",
      "[2, 3]\n",
      "[[10, 11, 12]]\n"
     ]
    }
   ],
   "source": [
    "array_3d = [[[1, 2, 3], [4, 5, 6]], [[7, 8, 9], [10, 11, 12]]]\n",
    "\n",
    "# Accessing elements in 3D array\n",
    "print(array_3d[0][0][0])  # Output: 1\n",
    "print(array_3d[1][1][1])  # Output: 11\n",
    "print(array_3d[0][1][2])  # Output: 6\n",
    "print(array_3d[0][0][1:3])  # Output: [2, 3]\n",
    "print(array_3d[1][1:])  # Output: [[10, 11, 12]]"
   ]
  },
  {
   "cell_type": "markdown",
   "metadata": {},
   "source": [
    "## ________________________________________________________________________________________________________________________________________________________\n",
    "## Numpy Array Slicing"
   ]
  },
  {
   "cell_type": "markdown",
   "metadata": {},
   "source": [
    "### Slicing in 1D array"
   ]
  },
  {
   "cell_type": "code",
   "execution_count": 24,
   "metadata": {},
   "outputs": [
    {
     "name": "stdout",
     "output_type": "stream",
     "text": [
      "[2 3 4]\n",
      "[1 2 3]\n",
      "[ 4  5 10]\n",
      "[1 3 5]\n"
     ]
    }
   ],
   "source": [
    "### import numpy as np\n",
    "\n",
    "# 1D Array\n",
    "array_1d = np.array([1, 2, 3, 4, 5, 10])\n",
    "\n",
    "# Slicing 1D array\n",
    "print(array_1d[1:4])  # Output: [2 3 4]\n",
    "print(array_1d[:3])   # Output: [1 2 3]\n",
    "print(array_1d[3:])   # Output: [ 4  5 10]\n",
    "print(array_1d[::2])  # Output: [ 1  3  5]"
   ]
  },
  {
   "cell_type": "markdown",
   "metadata": {},
   "source": [
    "### Slicing in 2D array"
   ]
  },
  {
   "cell_type": "code",
   "execution_count": 25,
   "metadata": {},
   "outputs": [
    {
     "name": "stdout",
     "output_type": "stream",
     "text": [
      "[[5 6]\n",
      " [8 9]]\n",
      "[[1 2]\n",
      " [4 5]]\n",
      "[[1 3]\n",
      " [7 9]]\n"
     ]
    }
   ],
   "source": [
    "\n",
    "\n",
    "# 2D Array\n",
    "array_2d = np.array([[1, 2, 3], [4, 5, 6], [7, 8, 9]])\n",
    "\n",
    "# Slicing 2D array\n",
    "print(array_2d[1:, 1:])  # Output: [[5 6]\n",
    "                         #          [8 9]]\n",
    "print(array_2d[:2, :2])  # Output: [[1 2]\n",
    "                         #          [4 5]]\n",
    "print(array_2d[::2, ::2])  # Output: [[1 3]\n",
    "                           #          [7 9]]\n",
    "\n"
   ]
  },
  {
   "cell_type": "markdown",
   "metadata": {},
   "source": [
    "### Slicing in 3D array"
   ]
  },
  {
   "cell_type": "code",
   "execution_count": null,
   "metadata": {},
   "outputs": [],
   "source": [
    "# 3D Array\n",
    "array_3d = np.array([[[1, 2, 3], [4, 5, 6]], [[7, 8, 9], [10, 11, 12]]])\n",
    "\n",
    "# Slicing 3D array\n",
    "print(array_3d[:, :, 1:])  # Output: [[[ 2  3]\n",
    "                           #           [ 5  6]]\n",
    "                           #          [[ 8  9]\n",
    "                           #           [11 12]]]\n",
    "print(array_3d[:, 1:, :2])  # Output: [[[ 4  5]]\n",
    "                            #          [[10 11]]]\n",
    "print(array_3d[::2, ::2, ::2])  # Output: [[[1 3]]\n",
    "                                #          [[7 9]]]"
   ]
  },
  {
   "cell_type": "markdown",
   "metadata": {},
   "source": [
    "#### Example 1:use slicing to retrieve employee ratings for a team of seven employees in the first quarter from the array"
   ]
  },
  {
   "cell_type": "code",
   "execution_count": 26,
   "metadata": {},
   "outputs": [
    {
     "name": "stdout",
     "output_type": "stream",
     "text": [
      "Mean ratings for each employee:\n",
      "3.75\n"
     ]
    }
   ],
   "source": [
    "# Assuming the array contains employee ratings for each quarter\n",
    "# For simplicity, let's create a sample array with random ratings\n",
    "employee_ratings = np.array([\n",
    "    [4, 3, 5, 2],  # Employee 1\n",
    "    [5, 4, 3, 4],  # Employee 2\n",
    "    [3, 5, 4, 3],\n",
    "    ])# Employee 3# Assuming the array contains employee ratings for each quarter\n",
    "# For simplicity, let's create a sample array with random ratings\n",
    "employee_ratings = np.array([\n",
    "    [4, 3, 5, 2],  # Employee 1\n",
    "    [5, 4, 3, 4],  # Employee 2\n",
    "    [3, 5, 4, 3],\n",
    "    ])# Employee 3# Assuming the array contains employee ratings for each quarter\n",
    "# For simplicity, let's create a sample array with random ratings\n",
    "employee_ratings = np.array([\n",
    "    [4, 3, 5, 2],  # Employee 1\n",
    "    [5, 4, 3, 4],  # Employee 2\n",
    "    [3, 5, 4, 3],  # Employee 3\n",
    "])\n",
    "# Calculate the mean rating for each employee\n",
    "mean_ratings = np.mean(employee_ratings)\n",
    "\n",
    "# Print the mean ratings for each employee\n",
    "print(\"Mean ratings for each employee:\")\n",
    "print(mean_ratings)\n",
    "\n",
    "\n"
   ]
  },
  {
   "cell_type": "markdown",
   "metadata": {},
   "source": [
    "### Example 2: Print the list of three subjects from the fourth index of the end\n"
   ]
  },
  {
   "cell_type": "code",
   "execution_count": 31,
   "metadata": {},
   "outputs": [
    {
     "name": "stdout",
     "output_type": "stream",
     "text": [
      "['Java' 'Cloud' 'C++']\n"
     ]
    }
   ],
   "source": [
    "Books = np.array(['Physics','DS','Math','Python','Java','Cloud','C++'])\n",
    "print(Books[4:])"
   ]
  },
  {
   "cell_type": "markdown",
   "metadata": {},
   "source": [
    "# Types of Slicing in Python\n",
    "\n",
    "## 1. Basic Slicing\n",
    "\n",
    "Basic slicing is used to extract a subset of elements from a list. The syntax for basic slicing is `list[start:stop:step]`.\n",
    "\n",
    "```python\n",
    "numbers = [1, 2, 3, 4, 5, 6, 7, 8, 9]\n",
    "print(numbers[1:5])  # Output: [2, 3, 4, 5]\n",
    "```\n",
    "\n",
    "## 2. Omitting Start Index\n",
    "\n",
    "If the start index is omitted, it defaults to 0.\n",
    "\n",
    "```python\n",
    "numbers = [1, 2, 3, 4, 5, 6, 7, 8, 9]\n",
    "print(numbers[:5])  # Output: [1, 2, 3, 4, 5]\n",
    "```\n",
    "\n",
    "## 3. Omitting Stop Index\n",
    "\n",
    "If the stop index is omitted, it defaults to the end of the list.\n",
    "\n",
    "```python\n",
    "numbers = [1, 2, 3, 4, 5, 6, 7, 8, 9]\n",
    "print(numbers[5:])  # Output: [6, 7, 8, 9]\n",
    "```\n",
    "\n",
    "## 4. Omitting Both Start and Stop Index\n",
    "\n",
    "If both start and stop index are omitted, it returns a copy of the entire list.\n",
    "\n",
    "```python\n",
    "numbers = [1, 2, 3, 4, 5, 6, 7, 8, 9]\n",
    "print(numbers[:])  # Output: [1, 2, 3, 4, 5, 6, 7, 8, 9]\n",
    "```\n",
    "\n",
    "## 5. Negative Indexing\n",
    "\n",
    "Negative indexing starts from the end of the list.\n",
    "\n",
    "```python\n",
    "numbers = [1, 2, 3, 4, 5, 6, 7, 8, 9]\n",
    "print(numbers[-3:])  # Output: [7, 8, 9]\n",
    "```\n",
    "\n",
    "## 6. Step Slicing\n",
    "\n",
    "Step slicing is used to extract every nth element from a list.\n",
    "\n",
    "```python\n",
    "numbers = [1, 2, 3, 4, 5, 6, 7, 8, 9]\n",
    "print(numbers[::2])  # Output: [1, 3, 5, 7, 9]\n",
    "```\n",
    "\n",
    "## 7. Reversing a List\n",
    "\n",
    "Reversing a list can be done by using a step of -1.\n",
    "\n",
    "```python\n",
    "numbers = [1, 2, 3, 4, 5, 6, 7, 8, 9]\n",
    "print(numbers[::-1])  # Output: [9, 8, 7, 6, 5, 4, 3, 2, 1]\n",
    "```"
   ]
  },
  {
   "cell_type": "markdown",
   "metadata": {},
   "source": []
  },
  {
   "cell_type": "markdown",
   "metadata": {},
   "source": []
  }
 ],
 "metadata": {
  "kernelspec": {
   "display_name": ".venv",
   "language": "python",
   "name": "python3"
  },
  "language_info": {
   "codemirror_mode": {
    "name": "ipython",
    "version": 3
   },
   "file_extension": ".py",
   "mimetype": "text/x-python",
   "name": "python",
   "nbconvert_exporter": "python",
   "pygments_lexer": "ipython3",
   "version": "3.12.9"
  }
 },
 "nbformat": 4,
 "nbformat_minor": 2
}
