{
 "cells": [
  {
   "cell_type": "markdown",
   "id": "5bedd996",
   "metadata": {},
   "source": [
    "# Unit -1 : NumPy\n",
    "\n",
    "**Instructor:** Dr. A. V. Brahmane  \n",
    "**Duration:** 7 Hours  \n",
    "**Objective:** This notebook will help you understand **NumPy** with hands-on coding exercises.  \n",
    "\n",
    " **Topics Covered:**  \n",
    "1. Introduction to NumPy Arrays  \n",
    "2. NumPy N-dimensional Arrays (1D, 2D, 3D)  \n",
    "3. Functions to Create Arrays  \n",
    "4. Combining Arrays  \n",
    "5. Indexing, Slicing & Reshaping  \n",
    "6. List to Array Conversion  \n",
    "7. String Indexing & Slicing  \n",
    "8. Operations on Arrays (Arithmetic & Logical)  \n",
    "9. Practice Exercises for Students  \n",
    "\n",
    " **How to use this notebook?**  \n",
    "- Read the explanation first.  \n",
    "- Run the Python code.  \n",
    "- Try modifying and experimenting with the code.  \n",
    "- Solve the practice exercises provided.  \n",
    "\n",
    "Let's get started!\n"
   ]
  },
  {
   "cell_type": "markdown",
   "id": "74db3208",
   "metadata": {},
   "source": [
    "## 1️⃣ Introduction to NumPy\n",
    "\n",
    "NumPy (Numerical Python) is a library used for numerical computing in Python. It provides fast and memory-efficient arrays and mathematical functions."
   ]
  },
  {
   "cell_type": "code",
   "execution_count": 1,
   "id": "1c15ab02",
   "metadata": {},
   "outputs": [
    {
     "name": "stdout",
     "output_type": "stream",
     "text": [
      "NumPy is successfully imported!\n"
     ]
    }
   ],
   "source": [
    "import numpy as np\n",
    "print('NumPy is successfully imported!')"
   ]
  },
  {
   "cell_type": "markdown",
   "id": "d3f62eb9",
   "metadata": {},
   "source": [
    "### 📝 Syntax Breakdown\n",
    "1. `import numpy as np` → Imports NumPy with an alias `np`.\n",
    "2. `print('NumPy is successfully imported!')` → Checks if NumPy is installed properly."
   ]
  },
  {
   "cell_type": "markdown",
   "id": "8a3b8fc5",
   "metadata": {},
   "source": [
    "### 🏋️‍♂️ Practice Exercise\n",
    "✅ **Practice:** Try to import NumPy and check its version using `np.__version__`."
   ]
  },
  {
   "cell_type": "markdown",
   "id": "912c87b4",
   "metadata": {},
   "source": [
    "## 2️⃣ NumPy N-dimensional Arrays (1D, 2D, 3D)\n",
    "\n",
    "NumPy arrays can be 1D, 2D, or 3D. They are more efficient than Python lists."
   ]
  },
  {
   "cell_type": "code",
   "execution_count": 2,
   "id": "597dc5ee",
   "metadata": {},
   "outputs": [
    {
     "name": "stdout",
     "output_type": "stream",
     "text": [
      "1D Array: [1 2 3 4 5]\n",
      "2D Array:\n",
      " [[1 2 3]\n",
      " [4 5 6]]\n",
      "3D Array:\n",
      " [[[1 2]\n",
      "  [3 4]]\n",
      "\n",
      " [[5 6]\n",
      "  [7 8]]]\n"
     ]
    }
   ],
   "source": [
    "arr1D = np.array([1, 2, 3, 4, 5])\n",
    "arr2D = np.array([[1, 2, 3], [4, 5, 6]])\n",
    "arr3D = np.array([[[1, 2], [3, 4]], [[5, 6], [7, 8]]])\n",
    "print('1D Array:', arr1D)\n",
    "print('2D Array:\\n', arr2D)\n",
    "print('3D Array:\\n', arr3D)"
   ]
  },
  {
   "cell_type": "markdown",
   "id": "cbc73b37",
   "metadata": {},
   "source": [
    "### 📝 Syntax Breakdown\n",
    "1. `np.array([values])` → Creates a 1D NumPy array.\n",
    "2. `np.array([[row1], [row2]])` → Creates a 2D array.\n",
    "3. `np.array([[[depth1], [depth2]], [[depth3], [depth4]]])` → Creates a 3D array."
   ]
  },
  {
   "cell_type": "markdown",
   "id": "8dd3fb04",
   "metadata": {},
   "source": [
    "### 🏋️‍♂️ Practice Exercise\n",
    "✅ **Practice:** Create a 2D array of shape (4,4) with values of your choice."
   ]
  },
  {
   "cell_type": "markdown",
   "id": "f9603ee9",
   "metadata": {},
   "source": [
    "## 3️⃣ Functions to Create Arrays\n",
    "\n",
    "NumPy provides multiple functions to create arrays efficiently."
   ]
  },
  {
   "cell_type": "code",
   "execution_count": 3,
   "id": "2306d7dd",
   "metadata": {},
   "outputs": [
    {
     "name": "stdout",
     "output_type": "stream",
     "text": [
      "Zeros Array:\n",
      " [[0. 0. 0.]\n",
      " [0. 0. 0.]\n",
      " [0. 0. 0.]]\n",
      "Ones Array:\n",
      " [[1. 1. 1. 1.]\n",
      " [1. 1. 1. 1.]]\n",
      "Random Array:\n",
      " [[0.86157271 0.92078278 0.80740609]\n",
      " [0.94333351 0.34123233 0.6384277 ]\n",
      " [0.44647066 0.03196724 0.12308523]]\n"
     ]
    }
   ],
   "source": [
    "zeros_array = np.zeros((3, 3))\n",
    "ones_array = np.ones((2, 4))\n",
    "rand_array = np.random.rand(3,3)\n",
    "print('Zeros Array:\\n', zeros_array)\n",
    "print('Ones Array:\\n', ones_array)\n",
    "print('Random Array:\\n', rand_array)"
   ]
  },
  {
   "cell_type": "markdown",
   "id": "15c9ec06",
   "metadata": {},
   "source": [
    "### 📝 Syntax Breakdown\n",
    "1. `np.zeros((rows, cols))` → Creates an array filled with zeros.\n",
    "2. `np.ones((rows, cols))` → Creates an array filled with ones.\n",
    "3. `np.random.rand(rows, cols)` → Creates an array with random values."
   ]
  },
  {
   "cell_type": "markdown",
   "id": "463355ab",
   "metadata": {},
   "source": [
    "### 🏋️‍♂️ Practice Exercise\n",
    "✅ **Practice:** Create a 5x5 identity matrix using NumPy."
   ]
  },
  {
   "cell_type": "markdown",
   "id": "bbd32bc6",
   "metadata": {},
   "source": [
    "## 4️⃣ Combining Arrays\n",
    "\n",
    "We can combine multiple arrays using concatenation."
   ]
  },
  {
   "cell_type": "code",
   "execution_count": 4,
   "id": "5a6c0508",
   "metadata": {},
   "outputs": [
    {
     "name": "stdout",
     "output_type": "stream",
     "text": [
      "Concatenated Array: [1 2 3 4 5 6]\n"
     ]
    }
   ],
   "source": [
    "a = np.array([1, 2, 3])\n",
    "b = np.array([4, 5, 6])\n",
    "c = np.concatenate((a, b))\n",
    "print('Concatenated Array:', c)"
   ]
  },
  {
   "cell_type": "markdown",
   "id": "dfcd4f9f",
   "metadata": {},
   "source": [
    "### 📝 Syntax Breakdown\n",
    "1. `np.concatenate((array1, array2))` → Combines two arrays into one."
   ]
  },
  {
   "cell_type": "markdown",
   "id": "b54abf75",
   "metadata": {},
   "source": [
    "### 🏋️‍♂️ Practice Exercise\n",
    "✅ **Practice:** Try combining two 2D arrays using `np.vstack()`."
   ]
  },
  {
   "cell_type": "markdown",
   "id": "39ef5a20",
   "metadata": {},
   "source": [
    "## 5️⃣ Indexing, Slicing & Reshaping\n",
    "\n",
    "NumPy allows easy indexing, slicing, and reshaping of arrays."
   ]
  },
  {
   "cell_type": "code",
   "execution_count": 5,
   "id": "6d1145c2",
   "metadata": {},
   "outputs": [
    {
     "name": "stdout",
     "output_type": "stream",
     "text": [
      "First Element: 10\n",
      "Last 3 Elements: [30 40 50]\n",
      "Reshaped Array:\n",
      " [[10]\n",
      " [20]\n",
      " [30]\n",
      " [40]\n",
      " [50]]\n"
     ]
    }
   ],
   "source": [
    "arr = np.array([10, 20, 30, 40, 50])\n",
    "print('First Element:', arr[0])\n",
    "print('Last 3 Elements:', arr[-3:])\n",
    "reshaped = arr.reshape(5,1)\n",
    "print('Reshaped Array:\\n', reshaped)"
   ]
  },
  {
   "cell_type": "markdown",
   "id": "3667239b",
   "metadata": {},
   "source": [
    "### 📝 Syntax Breakdown\n",
    "1. `arr[index]` → Accesses a specific element.\n",
    "2. `arr[start:end]` → Extracts a slice from the array.\n",
    "3. `arr.reshape(rows, cols)` → Reshapes the array."
   ]
  },
  {
   "cell_type": "markdown",
   "id": "4ba433e7",
   "metadata": {},
   "source": [
    "### 🏋️‍♂️ Practice Exercise\n",
    "✅ **Practice:** Reshape a (3,3) matrix into a (1,9) array."
   ]
  },
  {
   "cell_type": "markdown",
   "id": "e812a945",
   "metadata": {},
   "source": [
    "## 6️⃣ String Indexing & Slicing\n",
    "\n",
    "Strings in Python can be indexed and sliced just like arrays."
   ]
  },
  {
   "cell_type": "code",
   "execution_count": null,
   "id": "b96ce303",
   "metadata": {},
   "outputs": [],
   "source": [
    "text = 'NumPy Library'\n",
    "print('First Character:', text[0])\n",
    "print('Slice:', text[0:5])\n",
    "print('Reverse:', text[::-1])"
   ]
  },
  {
   "cell_type": "markdown",
   "id": "4962c668",
   "metadata": {},
   "source": [
    "### 📝 Syntax Breakdown\n",
    "1. `text[index]` → Access a character.\n",
    "2. `text[start:end]` → Slice a substring.\n",
    "3. `text[::-1]` → Reverse a string."
   ]
  },
  {
   "cell_type": "markdown",
   "id": "e6675d79",
   "metadata": {},
   "source": [
    "### 🏋️‍♂️ Practice Exercise\n",
    "✅ **Practice:** Try extracting 'Library' from the string using slicing."
   ]
  },
  {
   "cell_type": "markdown",
   "id": "f3550f3c",
   "metadata": {},
   "source": [
    "## 7️⃣ Operations on Arrays (Arithmetic & Logical)\n",
    "\n",
    "NumPy supports element-wise arithmetic operations."
   ]
  },
  {
   "cell_type": "code",
   "execution_count": null,
   "id": "f97ecf54",
   "metadata": {},
   "outputs": [],
   "source": [
    "arr1 = np.array([1, 2, 3])\n",
    "arr2 = np.array([4, 5, 6])\n",
    "print('Addition:', arr1 + arr2)\n",
    "print('Multiplication:', arr1 * arr2)"
   ]
  },
  {
   "cell_type": "markdown",
   "id": "fa900efc",
   "metadata": {},
   "source": [
    "### 📝 Syntax Breakdown\n",
    "1. `arr1 + arr2` → Adds two arrays element-wise.\n",
    "2. `arr1 * arr2` → Multiplies two arrays element-wise."
   ]
  },
  {
   "cell_type": "markdown",
   "id": "d8c417d9",
   "metadata": {},
   "source": [
    "### 🏋️‍♂️ Practice Exercise\n",
    "✅ **Practice:** Perform element-wise division on two NumPy arrays."
   ]
  }
 ],
 "metadata": {
  "kernelspec": {
   "display_name": ".venv",
   "language": "python",
   "name": "python3"
  },
  "language_info": {
   "codemirror_mode": {
    "name": "ipython",
    "version": 3
   },
   "file_extension": ".py",
   "mimetype": "text/x-python",
   "name": "python",
   "nbconvert_exporter": "python",
   "pygments_lexer": "ipython3",
   "version": "3.12.9"
  }
 },
 "nbformat": 4,
 "nbformat_minor": 5
}
