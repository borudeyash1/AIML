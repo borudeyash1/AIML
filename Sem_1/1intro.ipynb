{
 "cells": [
  {
   "cell_type": "markdown",
   "metadata": {},
   "source": [
    "\n",
    "\n",
    "\n",
    "\n",
    "\n",
    "# File Operations\n",
    "# 1. Create\n",
    "# 2. Open\n",
    "# 3. Write\n",
    "# 4. Read\n",
    "# 5. Close\n",
    "# Lifespan of file: When the file is created\n",
    "\n",
    "# Error Handling in Python\n",
    "# Types of Files:\n",
    "# 1. Standard input file\n",
    "# 2. Standard output file\n",
    "# 3. Standard error file\n",
    "\n",
    "# Essential Notes:\n",
    "\n",
    "# 1. Complex Numbers: A complex number is a number that can be expressed in the form a + bj, where a and b are real numbers and j is the imaginary unit, satisfying j^2 = -1.\n",
    "\n",
    "# 2. Tuples: A tuple is a collection of objects that can be of any data type, including strings, integers, floats, and other tuples. Tuples are immutable, meaning they cannot be changed after they are created.\n",
    "\n",
    "# 3. Lists: A list is a collection of objects that can be of any data type, including strings, integers, floats, and other lists. Lists are mutable, meaning they can be changed after they are created.\n",
    "\n",
    "# 4. Variables and Memory Allocation: In Python, variables are not memory locations, but rather names given to objects. When you assign a value to a variable, Python creates an object with that value and assigns the name to that object.\n",
    "\n",
    "# 5. Membership Operator: The membership operator (in) is used to check if a value is present in a sequence (such as a list, tuple, or string).\n",
    "\n",
    "# 6. Identity Operators: The identity operators (is and is not) are used to check if two variables refer to the same object in memory.\n",
    "\n",
    "# 7. Strings: A string is a sequence of characters. Strings can be enclosed in single quotes or double quotes.\n",
    "\n",
    "# 8. File Operations: Files can be created, opened, written to, read from, and closed. The lifespan of a file is from when it is created until it is closed.\n",
    "\n",
    "# 9. Error Handling: Python has a built-in mechanism for handling errors, which can be used to catch and handle exceptions that occur during the execution of a program."
   ]
  },
  {
   "cell_type": "code",
   "execution_count": 1,
   "metadata": {},
   "outputs": [
    {
     "name": "stdout",
     "output_type": "stream",
     "text": [
      "2\n",
      "3\n"
     ]
    }
   ],
   "source": [
    "# Complex Numbers\n",
    "Complex = 2 + 3j\n",
    "real = int(Complex.real)\n",
    "imaginary = int(Complex.imag)\n",
    "print(real)\n",
    "print(imaginary)"
   ]
  },
  {
   "cell_type": "code",
   "execution_count": null,
   "metadata": {},
   "outputs": [],
   "source": [
    "\n",
    "# Tuples\n",
    "tup = (1, 2, 'abc')\n",
    "print(tup)\n",
    "print(type(tup))"
   ]
  },
  {
   "cell_type": "code",
   "execution_count": null,
   "metadata": {},
   "outputs": [],
   "source": [
    "\n",
    "\n",
    "\n",
    "# Lists\n",
    "lis = [1, 2, 'tejas']\n",
    "print(lis)\n",
    "print(type(lis))"
   ]
  },
  {
   "cell_type": "code",
   "execution_count": null,
   "metadata": {},
   "outputs": [],
   "source": [
    "\n",
    "\n",
    "# Variables and Memory Allocation\n",
    "X = 22\n",
    "Y = X\n",
    "print(\"X=\", X, \" Id of x is \", id(X), \"\\nY= \", Y, \" Id of y is \", id(Y))\n",
    "Y = 21\n",
    "print(\"X=\", X, \" Id of x is \", id(X), \"\\nY= \", Y, \" Id of y is \", id(Y))\n",
    "Z = 22"
   ]
  },
  {
   "cell_type": "code",
   "execution_count": null,
   "metadata": {},
   "outputs": [],
   "source": [
    "\n",
    "\n",
    "# Membership Operator\n",
    "x = [1, 2, 3, 4, 5]\n",
    "print(10 not in x)\n",
    "print(10 in x)\n",
    "print(\"\\n\")"
   ]
  },
  {
   "cell_type": "code",
   "execution_count": null,
   "metadata": {},
   "outputs": [],
   "source": [
    "\n",
    "# Identity Operators\n",
    "a = 1\n",
    "b = a\n",
    "c = 1\n",
    "print(a is b)\n",
    "print(a is not c)"
   ]
  },
  {
   "cell_type": "code",
   "execution_count": null,
   "metadata": {},
   "outputs": [],
   "source": [
    "# Strings\n",
    "t = \"I am Tejas Chaudhari\"\n",
    "print(t[-1:-16:-1])\n",
    "print(t[-11:-16:-1])\n",
    "print(t.capitalize())\n",
    "print(t.upper())\n",
    "print(t.lower())\n",
    "print(t)\n",
    "print(len(t))\n",
    "E = t.split()\n",
    "print(E)\n",
    "t = t.replace('Chaudhari', ' From Dharangaon')\n",
    "print(t)"
   ]
  },
  {
   "cell_type": "code",
   "execution_count": null,
   "metadata": {},
   "outputs": [],
   "source": []
  },
  {
   "cell_type": "code",
   "execution_count": null,
   "metadata": {},
   "outputs": [],
   "source": []
  },
  {
   "cell_type": "code",
   "execution_count": null,
   "metadata": {},
   "outputs": [],
   "source": []
  },
  {
   "cell_type": "code",
   "execution_count": null,
   "metadata": {},
   "outputs": [],
   "source": []
  }
 ],
 "metadata": {
  "kernelspec": {
   "display_name": ".venv",
   "language": "python",
   "name": "python3"
  },
  "language_info": {
   "codemirror_mode": {
    "name": "ipython",
    "version": 3
   },
   "file_extension": ".py",
   "mimetype": "text/x-python",
   "name": "python",
   "nbconvert_exporter": "python",
   "pygments_lexer": "ipython3",
   "version": "3.12.9"
  }
 },
 "nbformat": 4,
 "nbformat_minor": 2
}
