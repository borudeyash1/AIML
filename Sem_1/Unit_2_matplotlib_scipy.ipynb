{
 "cells": [
  {
   "cell_type": "markdown",
   "id": "926582b9",
   "metadata": {},
   "source": [
    "#  Unit 2 : Matplotlib & SciPy\n",
    "\n",
    "## Dr. A. V. Brahmane\n",
    "\n",
    "Welcome to this **7-hour** hands-on session on **Matplotlib & SciPy**.  \n",
    "This notebook is designed to help you understand **data visualization & scientific computing** effectively.\n",
    "\n",
    "###  Topics Covered:\n",
    "1. **Introduction to Matplotlib**  \n",
    "2. **Matplotlib Subplots**  \n",
    "3. **Important Types of Plots**  \n",
    "4. **Three-dimensional Plotting**  \n",
    "5. **Introduction to SciPy**  \n",
    "6. **SciPy Sub-packages**  \n",
    "\n",
    "###  How to use this notebook?\n",
    "- Read the **theory explanation** first  \n",
    "- Execute the **Python code** provided  \n",
    "- Study the **syntax breakdown** in separate cells  \n",
    "- **Modify & experiment** with the code for better understanding  \n",
    "\n",
    "Let's begin the session!  \n"
   ]
  },
  {
   "cell_type": "markdown",
   "id": "36abc92d",
   "metadata": {},
   "source": [
    "## 1️⃣ Introduction to Matplotlib\n",
    "\n",
    "Matplotlib is a powerful library for data visualization in Python. It helps in plotting **graphs, charts, and figures** for better understanding of data."
   ]
  },
  {
   "cell_type": "code",
   "execution_count": null,
   "id": "593f5414",
   "metadata": {},
   "outputs": [],
   "source": [
    "import matplotlib.pyplot as plt\n",
    "print('Matplotlib is successfully imported!')"
   ]
  },
  {
   "cell_type": "markdown",
   "id": "39246c09",
   "metadata": {},
   "source": [
    "### 📝 Syntax Breakdown\n",
    "1. `import matplotlib.pyplot as plt` → Imports Matplotlib with an alias `plt`.\n",
    "2. `print(...)` → Ensures the library is properly installed."
   ]
  },
  {
   "cell_type": "code",
   "execution_count": null,
   "id": "ebefbee9",
   "metadata": {},
   "outputs": [],
   "source": [
    "plt.plot([1, 2, 3, 4], [10, 20, 25, 30])\n",
    "plt.title('Basic Line Plot')\n",
    "plt.xlabel('X-axis')\n",
    "plt.ylabel('Y-axis')\n",
    "plt.grid()\n",
    "plt.show()"
   ]
  },
  {
   "cell_type": "markdown",
   "id": "d360838d",
   "metadata": {},
   "source": [
    "### 📝 Syntax Breakdown\n",
    "1. `plt.plot(x_values, y_values)` → Draws a line graph.\n",
    "2. `plt.title(...)` → Adds a title.\n",
    "3. `plt.xlabel()/plt.ylabel()` → Labels axes.\n",
    "4. `plt.grid()` → Adds a grid for better readability.\n",
    "5. `plt.show()` → Displays the plot."
   ]
  },
  {
   "cell_type": "markdown",
   "id": "8ee72dfd",
   "metadata": {},
   "source": [
    "## 2️⃣ Matplotlib Subplots\n",
    "\n",
    "Subplots allow multiple plots in a single figure, making it easier to compare data."
   ]
  },
  {
   "cell_type": "code",
   "execution_count": null,
   "id": "8e475a71",
   "metadata": {},
   "outputs": [],
   "source": [
    "fig, axs = plt.subplots(1, 2)\n",
    "axs[0].plot([1, 2, 3], [1, 4, 9], label='Line 1')\n",
    "axs[1].bar(['A', 'B', 'C'], [5, 7, 9], color='green')\n",
    "plt.show()"
   ]
  },
  {
   "cell_type": "markdown",
   "id": "00a51f40",
   "metadata": {},
   "source": [
    "### 📝 Syntax Breakdown\n",
    "1. `plt.subplots(rows, cols)` → Creates subplots.\n",
    "2. `axs[i].plot()/axs[i].bar()` → Plots in individual subplots.\n",
    "3. `plt.show()` → Displays all subplots."
   ]
  },
  {
   "cell_type": "code",
   "execution_count": null,
   "id": "dddcf8bb",
   "metadata": {},
   "outputs": [],
   "source": [
    "fig, axs = plt.subplots(2, 2)\n",
    "axs[0, 0].scatter([1, 2, 3], [3, 6, 9])\n",
    "axs[0, 1].hist([1, 2, 2, 3, 3, 3, 4, 4, 4, 4])\n",
    "plt.show()"
   ]
  },
  {
   "cell_type": "markdown",
   "id": "b05c4bf3",
   "metadata": {},
   "source": [
    "### 📝 Syntax Breakdown\n",
    "1. `scatter()` → Plots a scatter plot.\n",
    "2. `hist()` → Creates a histogram."
   ]
  },
  {
   "cell_type": "markdown",
   "id": "79679437",
   "metadata": {},
   "source": [
    "## 3️⃣ Important Types of Plots\n",
    "\n",
    "Different types of plots are useful for different types of data. Below are two important types:"
   ]
  },
  {
   "cell_type": "code",
   "execution_count": null,
   "id": "96168669",
   "metadata": {},
   "outputs": [],
   "source": [
    "plt.bar(['A', 'B', 'C', 'D'], [5, 10, 15, 20], color='red')\n",
    "plt.title('Bar Chart')\n",
    "plt.show()"
   ]
  },
  {
   "cell_type": "markdown",
   "id": "c0257f8f",
   "metadata": {},
   "source": [
    "### 📝 Syntax Breakdown\n",
    "1. `plt.bar(categories, values)` → Creates a bar chart."
   ]
  },
  {
   "cell_type": "code",
   "execution_count": null,
   "id": "6c2eb70c",
   "metadata": {},
   "outputs": [],
   "source": [
    "plt.pie([10, 20, 30, 40], labels=['A', 'B', 'C', 'D'], autopct='%1.1f%%')\n",
    "plt.title('Pie Chart')\n",
    "plt.show()"
   ]
  },
  {
   "cell_type": "markdown",
   "id": "2e346d34",
   "metadata": {},
   "source": [
    "### 📝 Syntax Breakdown\n",
    "1. `plt.pie(values, labels, autopct)` → Creates a pie chart."
   ]
  },
  {
   "cell_type": "markdown",
   "id": "d4e358a4",
   "metadata": {},
   "source": [
    "## 4️⃣ Three-dimensional Plotting\n",
    "\n",
    "3D plots are useful for visualizing high-dimensional data."
   ]
  },
  {
   "cell_type": "code",
   "execution_count": null,
   "id": "1d37d62c",
   "metadata": {},
   "outputs": [],
   "source": [
    "from mpl_toolkits.mplot3d import Axes3D\n",
    "fig = plt.figure()\n",
    "ax = fig.add_subplot(111, projection='3d')\n",
    "ax.scatter([1, 2, 3], [4, 5, 6], [7, 8, 9])\n",
    "plt.show()"
   ]
  },
  {
   "cell_type": "markdown",
   "id": "70157f7e",
   "metadata": {},
   "source": [
    "### 📝 Syntax Breakdown\n",
    "1. `projection='3d'` → Enables 3D plotting.\n",
    "2. `scatter()` → Plots points in 3D."
   ]
  },
  {
   "cell_type": "code",
   "execution_count": null,
   "id": "26adaabc",
   "metadata": {},
   "outputs": [],
   "source": [
    "import numpy as np\n",
    "X = np.linspace(-5, 5, 50)\n",
    "Y = np.linspace(-5, 5, 50)\n",
    "X, Y = np.meshgrid(X, Y)\n",
    "Z = np.sin(np.sqrt(X**2 + Y**2))\n",
    "fig = plt.figure()\n",
    "ax = fig.add_subplot(111, projection='3d')\n",
    "ax.plot_surface(X, Y, Z, cmap='viridis')\n",
    "plt.show()"
   ]
  },
  {
   "cell_type": "markdown",
   "id": "d9ac1aae",
   "metadata": {},
   "source": [
    "### 📝 Syntax Breakdown\n",
    "1. `np.meshgrid()` → Creates a 2D grid.\n",
    "2. `plot_surface()` → Creates a 3D surface plot."
   ]
  },
  {
   "cell_type": "markdown",
   "id": "b6c5746c",
   "metadata": {},
   "source": [
    "## 5️⃣ Introduction to SciPy\n",
    "\n",
    "SciPy is a Python library used for scientific computing. It extends NumPy and includes modules for optimization, linear algebra, integration, and more."
   ]
  },
  {
   "cell_type": "code",
   "execution_count": null,
   "id": "ab3ef910",
   "metadata": {},
   "outputs": [],
   "source": [
    "import scipy\n",
    "print('SciPy Version:', scipy.__version__)"
   ]
  },
  {
   "cell_type": "markdown",
   "id": "79f3391c",
   "metadata": {},
   "source": [
    "### 📝 Syntax Breakdown\n",
    "1. `import scipy` → Imports SciPy.\n",
    "2. `scipy.__version__` → Displays installed version."
   ]
  },
  {
   "cell_type": "code",
   "execution_count": null,
   "id": "f3596801",
   "metadata": {},
   "outputs": [],
   "source": [
    "from scipy.special import exp10\n",
    "print(exp10(2))  # 10^2"
   ]
  },
  {
   "cell_type": "markdown",
   "id": "ef857203",
   "metadata": {},
   "source": [
    "### 📝 Syntax Breakdown\n",
    "1. `scipy.special.exp10(x)` → Computes 10^x."
   ]
  },
  {
   "cell_type": "markdown",
   "id": "7a0a728f",
   "metadata": {},
   "source": [
    "## 6️⃣ SciPy Sub-packages\n",
    "\n",
    "SciPy has various sub-packages like `scipy.optimize`, `scipy.stats`, and `scipy.spatial`."
   ]
  },
  {
   "cell_type": "code",
   "execution_count": null,
   "id": "a5ebb309",
   "metadata": {},
   "outputs": [],
   "source": [
    "from scipy.optimize import minimize\n",
    "f = lambda x: (x - 3) ** 2\n",
    "result = minimize(f, x0=0)\n",
    "print(result)"
   ]
  },
  {
   "cell_type": "markdown",
   "id": "624e83dc",
   "metadata": {},
   "source": [
    "### 📝 Syntax Breakdown\n",
    "1. `minimize()` → Finds the minimum of a function."
   ]
  },
  {
   "cell_type": "code",
   "execution_count": null,
   "id": "f0bfb00f",
   "metadata": {},
   "outputs": [],
   "source": [
    "from scipy.stats import norm\n",
    "print('PDF at x=0:', norm.pdf(0))\n",
    "print('CDF at x=0:', norm.cdf(0))"
   ]
  },
  {
   "cell_type": "markdown",
   "id": "44c9dd86",
   "metadata": {},
   "source": [
    "### 📝 Syntax Breakdown\n",
    "1. `norm.pdf(x)` → Probability Density Function.\n",
    "2. `norm.cdf(x)` → Cumulative Distribution Function."
   ]
  }
 ],
 "metadata": {
  "kernelspec": {
   "display_name": "Python [conda env:base] *",
   "language": "python",
   "name": "conda-base-py"
  },
  "language_info": {
   "codemirror_mode": {
    "name": "ipython",
    "version": 3
   },
   "file_extension": ".py",
   "mimetype": "text/x-python",
   "name": "python",
   "nbconvert_exporter": "python",
   "pygments_lexer": "ipython3",
   "version": "3.12.7"
  }
 },
 "nbformat": 4,
 "nbformat_minor": 5
}
